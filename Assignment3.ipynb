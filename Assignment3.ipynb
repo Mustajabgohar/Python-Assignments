{
 "cells": [
  {
   "cell_type": "markdown",
   "metadata": {},
   "source": [
    "## Question # 1"
   ]
  },
  {
   "cell_type": "code",
   "execution_count": 24,
   "metadata": {},
   "outputs": [
    {
     "name": "stdout",
     "output_type": "stream",
     "text": [
      "------------------------------------\n",
      "           CALCULATOR\n",
      "------------------------------------\n",
      "NOTE: \n",
      "1 for ADDITION (+) \n",
      "2 for SUBTRACTION (-) \n",
      "3 for DIVISION (/)\n",
      "4 for MULTIPLICATION (*)\n",
      "5 for Power (^)\n",
      "What Operation you want to Perform ?\n",
      "Enter 1-5 : 5\n",
      "Enter a number = 2\n",
      "Enter Power = 5\n",
      "0\n",
      "1\n",
      "2\n",
      "Answer = 32\n"
     ]
    }
   ],
   "source": [
    "print(\"------------------------------------\")\n",
    "print(\"           CALCULATOR\")\n",
    "print(\"------------------------------------\")\n",
    "print(\"NOTE: \\n1 for ADDITION (+) \\n2 for SUBTRACTION (-) \\n3 for DIVISION (/)\\n4 for MULTIPLICATION (*)\\n5 for Power (^)\")\n",
    "print(\"What Operation you want to Perform ?\")\n",
    "key = int(input(\"Enter 1-5 : \"))\n",
    "if(key == 5):\n",
    "    value1 = int(input(\"Enter a number = \"))\n",
    "    value2 = int(input(\"Enter Power = \"))\n",
    "else:\n",
    "    value1 = int(input(\"Enter first number = \"))\n",
    "    value2 = int(input(\"Enter second number = \"))\n",
    "\n",
    "if(key == 1):\n",
    "    value = value1 + value2 \n",
    "elif(key == 2):\n",
    "    value = value1 - value2\n",
    "elif(key == 3):\n",
    "    value = value1 / value2\n",
    "elif(key == 4):\n",
    "    value = value1 * value2\n",
    "elif(key == 5):\n",
    "    value = value1 * value1\n",
    "    for x in range(value2-2):\n",
    "        value = value * value1\n",
    "else:\n",
    "    print(\"Invalid entered Value!!!\")\n",
    "print(\"Answer = \" + str(value))"
   ]
  },
  {
   "cell_type": "markdown",
   "metadata": {},
   "source": [
    "## Question # 2"
   ]
  },
  {
   "cell_type": "code",
   "execution_count": 62,
   "metadata": {},
   "outputs": [
    {
     "name": "stdout",
     "output_type": "stream",
     "text": [
      "Yes! There is Number in the List\n",
      "1\n"
     ]
    }
   ],
   "source": [
    "# from numbers import Number\n",
    "alist = [\"asd\",\"pqr\",\"qwe\",\"zxc\",\"uio\",4, \"sdf\"]\n",
    "check = 0\n",
    "for x in range(len(alist)):\n",
    "    if(type(alist[x]) == int):\n",
    "        check = check + 1\n",
    "#     print(x)\n",
    "if(check!=0):\n",
    "    print(\"Yes! There is Number in the List\")\n",
    "#     print(check)\n",
    "else:\n",
    "        print(\"NO! There is No Number in the List\")"
   ]
  },
  {
   "cell_type": "markdown",
   "metadata": {},
   "source": [
    "## Question # 3"
   ]
  },
  {
   "cell_type": "code",
   "execution_count": 96,
   "metadata": {},
   "outputs": [
    {
     "name": "stdout",
     "output_type": "stream",
     "text": [
      "Enter Key to ADD news\n",
      "Enter Value of KeyReal\n"
     ]
    },
    {
     "data": {
      "text/plain": [
       "{'name': 'Mustajab',\n",
       " 'contact': 92333232323,\n",
       " 'birth_year': 1996,\n",
       " 'news': 'Real'}"
      ]
     },
     "execution_count": 96,
     "metadata": {},
     "output_type": "execute_result"
    }
   ],
   "source": [
    "dict1 = {\n",
    "  \"name\": \"Mustajab\",\n",
    "  \"contact\": 92333232323,\n",
    "  \"birth_year\": 1996\n",
    "}\n",
    "addKey = input(\"Enter Key to ADD \")\n",
    "dict1[addKey] = input(\"Enter Value of Key\")\n",
    "dict1"
   ]
  },
  {
   "cell_type": "markdown",
   "metadata": {},
   "source": [
    "## Question # 4"
   ]
  },
  {
   "cell_type": "code",
   "execution_count": 99,
   "metadata": {},
   "outputs": [
    {
     "name": "stdout",
     "output_type": "stream",
     "text": [
      "The Sum of Numeric Values = 2526\n"
     ]
    }
   ],
   "source": [
    "sum_dict = {\n",
    "    \"name\": \"Mustajab\",\n",
    "    \"birth_year\": 1996,\n",
    "    \"tomato_price\" : 320,\n",
    "    \"dollar_price\" : 150,\n",
    "    \"gender\" : \"male\",\n",
    "    \"weight\": 60\n",
    "}\n",
    "sum = 0\n",
    "for x in sum_dict:\n",
    "    if(type(sum_dict[x]) == int):\n",
    "        sum = sum + sum_dict[x]\n",
    "print(\"The Sum of Numeric Values = \" + str(sum))"
   ]
  },
  {
   "cell_type": "markdown",
   "metadata": {},
   "source": [
    "## Question # 5"
   ]
  },
  {
   "cell_type": "code",
   "execution_count": 86,
   "metadata": {},
   "outputs": [
    {
     "name": "stdout",
     "output_type": "stream",
     "text": [
      "Duplicates :\n",
      "uio\n",
      "3\n"
     ]
    }
   ],
   "source": [
    "alist = [\"asd\",\"pqr\", \"uio\", \"qwe\",\"zxc\",\"uio\", \"3\", \"sdf\", \"3\"]\n",
    "n = len(alist)\n",
    "\n",
    "print(\"Duplicates :\")\n",
    "for i in range(n):\n",
    "    for j in range(i+1, n):\n",
    "        if(alist[i] == alist[j]):\n",
    "            print(alist[i])\n",
    "        "
   ]
  },
  {
   "cell_type": "markdown",
   "metadata": {},
   "source": [
    "## Question # 6"
   ]
  },
  {
   "cell_type": "code",
   "execution_count": 89,
   "metadata": {},
   "outputs": [
    {
     "name": "stdout",
     "output_type": "stream",
     "text": [
      "Enter Key To Checknmae\n",
      "No, nmae Does NOT EXISTS dictionary\n"
     ]
    }
   ],
   "source": [
    "dict = {\n",
    "  \"name\": \"Mustajab\",\n",
    "  \"contact\": 92333232323,\n",
    "  \"birth_year\": 1996\n",
    "}\n",
    "checkKey = input(\"Enter Key To Check\")\n",
    "if checkKey in dict:\n",
    "    print(\"Yes, \"+ checkKey +\" EXISTS dictionary\")\n",
    "else:\n",
    "    print(\"No, \"+ checkKey +\" Does NOT EXISTS dictionary\")"
   ]
  }
 ],
 "metadata": {
  "kernelspec": {
   "display_name": "Python 3",
   "language": "python",
   "name": "python3"
  },
  "language_info": {
   "codemirror_mode": {
    "name": "ipython",
    "version": 3
   },
   "file_extension": ".py",
   "mimetype": "text/x-python",
   "name": "python",
   "nbconvert_exporter": "python",
   "pygments_lexer": "ipython3",
   "version": "3.7.3"
  }
 },
 "nbformat": 4,
 "nbformat_minor": 2
}
