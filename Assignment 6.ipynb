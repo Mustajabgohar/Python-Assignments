{
 "cells": [
  {
   "cell_type": "markdown",
   "metadata": {},
   "source": [
    "## Quesion 1"
   ]
  },
  {
   "cell_type": "markdown",
   "metadata": {},
   "source": [
    "Object-oriented programming (OOP) is a software programming model constructed around objects. This model compartmentalizes data into objects (data fields) and describes object contents and behavior through the declaration of classes (methods)."
   ]
  },
  {
   "cell_type": "markdown",
   "metadata": {},
   "source": [
    "## Question 2"
   ]
  },
  {
   "cell_type": "markdown",
   "metadata": {},
   "source": [
    "1) Reuse of code through inheritance:\n",
    "  If the RaceCar object needs a method to “fireAfterBurners” and the Limousine object requires a Chauffeur, each class could implement separate functions just for itself. However, because both classes inherit key aspects from the Car class, for example the “drive” or “fillUpGas” methods, your inheriting classes can simply reuse existing code instead of writing these functions all over again.\n",
    "2) Easier to maintain:\n",
    "  It makes software easier to maintain. Since the design is modular, part of the system can be updated in case of issues without a need to make large-scale changes.\n",
    "3) Effective problem solving:\n",
    "  Object-oriented programming is often the most natural and pragmatic approach, once you get the hang of it. OOP languages allows you to break down your software into bite-sized problems that you then can solve — one object at a time.\n"
   ]
  },
  {
   "cell_type": "markdown",
   "metadata": {},
   "source": [
    "## Question 3"
   ]
  },
  {
   "cell_type": "markdown",
   "metadata": {},
   "source": [
    "A function is a piece of code that is called by name. It can be passed data to operate on (i.e. the parameters) and can optionally return data (the return value). All data that is passed to a function is explicitly passed.\n",
    "\n",
    "A method is a piece of code that is called by a name that is associated with an object. In most respects it is identical to a function except for two key differences:\n",
    "\n",
    "    1. A method is implicitly passed the object on which it was called.\n",
    "    2. A method is able to operate on data that is contained within the class (remembering that an object is an instance of a class - the class is the definition, the object is an instance of that data).\n"
   ]
  },
  {
   "cell_type": "markdown",
   "metadata": {},
   "source": [
    "## Question 4"
   ]
  },
  {
   "cell_type": "markdown",
   "metadata": {},
   "source": [
    "1. Class:\n",
    "  A class is an entity that determines how an object will behave and what the object will contain. In other words, it is a blueprint or a set of instruction to build a specific type of object.\n",
    "2. Object:\n",
    "  In object-oriented programming (OOP), objects are the things you think about first in designing a program and they are also the units of code that are eventually derived from the process.\n",
    "3. Attribute:\n",
    "  Attributes are data stored inside a class or instance and represent the state or quality of the class or instance. In short, attributes store information about the instance. Also, attributes should not be confused with class functions also known as methods.\n",
    "4. Behaviour:\n",
    "  The behavior of an object is defined by its methods, which are the functions and subroutines defined within the object class. Without class methods, a class would simply be a structure. Methods determine what type of functionality a class has, how it modifies its data, and its overall behavior."
   ]
  },
  {
   "cell_type": "markdown",
   "metadata": {},
   "source": [
    "## Question 5"
   ]
  },
  {
   "cell_type": "code",
   "execution_count": 6,
   "metadata": {},
   "outputs": [],
   "source": [
    "#Creating a class\n",
    "class Car():\n",
    "    #intialization\n",
    "    def __init__(self, p_name, p_model, p_color, p_wheelType, p_mileage):\n",
    "        #attributes\n",
    "        self.name = p_name\n",
    "        self.model = p_model\n",
    "        self.color = p_color\n",
    "        self.wheelType = p_wheelType\n",
    "        self.mileage = p_mileage\n",
    "    #methods\n",
    "    def updateColor(self, nColor):\n",
    "        self.color = nColor\n",
    "    def updateWheelType(self, nWheelType):\n",
    "        self.wheelType = nWheelType\n",
    "    def updateName(self, nMileage):\n",
    "        self.mileage = nMileage\n"
   ]
  },
  {
   "cell_type": "code",
   "execution_count": 7,
   "metadata": {},
   "outputs": [],
   "source": [
    "#Creating Instances\n",
    "#Instance No. 1\n",
    "toyota = Car('Toyota', '2015 VR', 'Blue', 'Bottom Line', 13.4)\n",
    "#Instance No. 2\n",
    "Audi = Car('Audi', '2012 V1', 'White', 'Bottom Line', 14.7)\n",
    "#Instance No. 3\n",
    "Mercedes = Car('Mercedes', '2017 Xor', 'Black', 'Bottom Line', 12.9)\n",
    "#Instance No. 4\n",
    "Car5 = Car('car5', '2020', 'White-Black', 'Smooth', 12.7)\n",
    "#Instance No. 5\n",
    "Mercedes = Car('car6', '2060', 'Black-Grey', 'Rough', 11.2)"
   ]
  }
 ],
 "metadata": {
  "kernelspec": {
   "display_name": "Python 3",
   "language": "python",
   "name": "python3"
  },
  "language_info": {
   "codemirror_mode": {
    "name": "ipython",
    "version": 3
   },
   "file_extension": ".py",
   "mimetype": "text/x-python",
   "name": "python",
   "nbconvert_exporter": "python",
   "pygments_lexer": "ipython3",
   "version": "3.7.3"
  }
 },
 "nbformat": 4,
 "nbformat_minor": 2
}
