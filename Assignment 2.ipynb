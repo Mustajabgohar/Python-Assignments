{
 "cells": [
  {
   "cell_type": "markdown",
   "metadata": {},
   "source": [
    "## Question 1"
   ]
  },
  {
   "cell_type": "code",
   "execution_count": 33,
   "metadata": {},
   "outputs": [
    {
     "name": "stdout",
     "output_type": "stream",
     "text": [
      "Enter Marks of Numerical Computing    =  56\n",
      "Enter Marks of Information Security   =  78\n",
      "Enter Marks of Machine Learning       =  49\n",
      "Enter Marks of Supply Chain Mgmt.     =  77\n",
      "Enter Marks of Computer Architecture  =  83\n",
      "---------------------------------------------------\n",
      "          Subjects          |   Marks   |  Grades\n",
      "---------------------------------------------------\n",
      "Numerical Computing              56            D\n",
      "Information Security             78            B\n",
      "Machine Learning                 49            F\n",
      "Supply Chain Mgmt.               77            B\n",
      "Computer Architecture            83            A\n",
      "-----------------------------TOTAL = 343\n"
     ]
    }
   ],
   "source": [
    "subjects = [\"Numerical Computing  \", \"Information Security \", \"Machine Learning     \", \"Supply Chain Mgmt.   \", \"Computer Architecture\"]\n",
    "n = len(subjects)\n",
    "marks =[0]*n\n",
    "grades = ['1']*n\n",
    "total = 0\n",
    "for i in range(n):\n",
    "    marks[i] = int(input(\"Enter Marks of \" + subjects[i] + \"  =  \"))\n",
    "    total += marks[i]\n",
    "    if(marks[i] >= 80):\n",
    "        grades[i] = \"A\"\n",
    "    elif(marks[i] >= 70):\n",
    "        grades[i] = \"B\"\n",
    "    elif(marks[i] >= 60):\n",
    "        grades[i] = \"C\"\n",
    "    elif(marks[i] >= 50):\n",
    "        grades[i] = \"D\"\n",
    "    else:\n",
    "        grades[i] = \"F\"\n",
    "\n",
    "print(\"---------------------------------------------------\")\n",
    "print(\"          Subjects          |   Marks   |  Grades\")\n",
    "print(\"---------------------------------------------------\")\n",
    "for i in range(n):\n",
    "    print(subjects[i] +\"            \" + str(marks[i])+ \"            \" + str(grades[i]))\n",
    "    \n",
    "print(\"-----------------------------TOTAL = \"+ str(total))\n"
   ]
  },
  {
   "cell_type": "markdown",
   "metadata": {},
   "source": [
    "## Question 2"
   ]
  },
  {
   "cell_type": "code",
   "execution_count": 38,
   "metadata": {},
   "outputs": [
    {
     "name": "stdout",
     "output_type": "stream",
     "text": [
      "Enter any number 59\n",
      "59 is Odd\n"
     ]
    }
   ],
   "source": [
    "num = int(input(\"Enter any number \"))\n",
    "if((num%2) == 0):\n",
    "    print(str(num)+\" is Even\")\n",
    "else:\n",
    "    print(str(num)+\" is Odd\")"
   ]
  },
  {
   "cell_type": "markdown",
   "metadata": {},
   "source": [
    "## Question 3"
   ]
  },
  {
   "cell_type": "code",
   "execution_count": 42,
   "metadata": {},
   "outputs": [
    {
     "name": "stdout",
     "output_type": "stream",
     "text": [
      "0\n",
      "5\n"
     ]
    }
   ],
   "source": [
    "a = []  # 0 length\n",
    "print(len(a))\n",
    "\n",
    "a = [1,1, 1, 1, 1]  # 5 length\n",
    "print(len(a))"
   ]
  },
  {
   "cell_type": "markdown",
   "metadata": {},
   "source": [
    "## Question 4"
   ]
  },
  {
   "cell_type": "code",
   "execution_count": 48,
   "metadata": {},
   "outputs": [
    {
     "name": "stdout",
     "output_type": "stream",
     "text": [
      "The sum of List Numbers = 8\n"
     ]
    }
   ],
   "source": [
    "numbers = [2, 4, 1, 1]\n",
    "sum = 0\n",
    "for i in numbers:\n",
    "    sum += i\n",
    "print(\"The sum of List Numbers = \" + str(sum))"
   ]
  },
  {
   "cell_type": "markdown",
   "metadata": {},
   "source": [
    "## Question 5"
   ]
  },
  {
   "cell_type": "code",
   "execution_count": 52,
   "metadata": {},
   "outputs": [
    {
     "name": "stdout",
     "output_type": "stream",
     "text": [
      "The Maximum Number is = 66\n"
     ]
    }
   ],
   "source": [
    "# max = 0\n",
    "numbers = [3, 41, -3, 24, 66]\n",
    "max = numbers[0]\n",
    "for i in numbers:\n",
    "    if(i > max):\n",
    "        max = i\n",
    "print(\"The Maximum Number is = \"+ str(max))"
   ]
  },
  {
   "cell_type": "markdown",
   "metadata": {},
   "source": [
    "## Question 6\n"
   ]
  },
  {
   "cell_type": "code",
   "execution_count": 54,
   "metadata": {},
   "outputs": [
    {
     "name": "stdout",
     "output_type": "stream",
     "text": [
      "1\n",
      "1\n",
      "2\n",
      "3\n"
     ]
    }
   ],
   "source": [
    "a = [1,1,2,3,5,8,13,21,34,55,89]\n",
    "for i in a:\n",
    "    if(i < 5):\n",
    "        print(i)"
   ]
  },
  {
   "cell_type": "code",
   "execution_count": null,
   "metadata": {},
   "outputs": [],
   "source": []
  }
 ],
 "metadata": {
  "kernelspec": {
   "display_name": "Python 3",
   "language": "python",
   "name": "python3"
  },
  "language_info": {
   "codemirror_mode": {
    "name": "ipython",
    "version": 3
   },
   "file_extension": ".py",
   "mimetype": "text/x-python",
   "name": "python",
   "nbconvert_exporter": "python",
   "pygments_lexer": "ipython3",
   "version": "3.7.3"
  }
 },
 "nbformat": 4,
 "nbformat_minor": 2
}
