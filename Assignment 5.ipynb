{
 "cells": [
  {
   "cell_type": "markdown",
   "metadata": {},
   "source": [
    "## Question # 1"
   ]
  },
  {
   "cell_type": "code",
   "execution_count": 74,
   "metadata": {},
   "outputs": [
    {
     "name": "stdout",
     "output_type": "stream",
     "text": [
      "The factorial is 720\n"
     ]
    }
   ],
   "source": [
    "def factorial(num):\n",
    "    factorial = 0\n",
    "    if(num < 0 or (type(num) == float)):\n",
    "        print(\"Enter the positive integer\")\n",
    "    else:\n",
    "        if num == 0:\n",
    "            print(\"The factorial is 1\")\n",
    "        else:    \n",
    "            val = num\n",
    "            factorial = val * (val-1)\n",
    "    #         print(factorial)\n",
    "            val = val - 2\n",
    "            for i in range(num-2):\n",
    "#                 print(factorial)\n",
    "    #             print(val)\n",
    "                factorial = factorial * val\n",
    "                val = val - 1\n",
    "    #             print(i)\n",
    "            print(\"The factorial is \" + str(factorial))\n",
    "        \n",
    "\n",
    "#Calling function        \n",
    "factorial(6)"
   ]
  },
  {
   "cell_type": "markdown",
   "metadata": {},
   "source": [
    "## Question # 2"
   ]
  },
  {
   "cell_type": "code",
   "execution_count": 14,
   "metadata": {},
   "outputs": [
    {
     "name": "stdout",
     "output_type": "stream",
     "text": [
      "Upper Case Letters : 3\n",
      "Lower Case Letter : 13\n"
     ]
    }
   ],
   "source": [
    "def upper_lower(text):\n",
    "    upper_count = 0\n",
    "    lower_count = 0\n",
    "    for i in text:\n",
    "#         print(i)\n",
    "        if(i.isupper()):\n",
    "            upper_count = upper_count + 1\n",
    "        elif(i.islower()):\n",
    "            lower_count = lower_count + 1\n",
    "    print(\"Upper Case Letters : \" + str(upper_count) +\"\\n\" + \"Lower Case Letter : \" + str(lower_count))\n",
    "    \n",
    "string = 'My Name is Mustajab'\n",
    "upper_lower(string)"
   ]
  },
  {
   "cell_type": "markdown",
   "metadata": {},
   "source": [
    "## Question # 3 "
   ]
  },
  {
   "cell_type": "code",
   "execution_count": 16,
   "metadata": {},
   "outputs": [
    {
     "name": "stdout",
     "output_type": "stream",
     "text": [
      "2\n",
      "4\n",
      "6\n",
      "8\n",
      "10\n"
     ]
    }
   ],
   "source": [
    "llist = [1,2,3,4,5,6,7,8,9,10]\n",
    "\n",
    "def check_even_numbers(numbers):\n",
    "    for i in numbers:\n",
    "        if( (i%2) == 0 ):\n",
    "            print(i)\n",
    "        \n",
    "check_even_numbers(llist)"
   ]
  },
  {
   "cell_type": "markdown",
   "metadata": {},
   "source": [
    "## Question # 4"
   ]
  },
  {
   "cell_type": "code",
   "execution_count": 30,
   "metadata": {},
   "outputs": [
    {
     "name": "stdout",
     "output_type": "stream",
     "text": [
      "Yes!!! It is a Palindrome\n"
     ]
    }
   ],
   "source": [
    "def palindrome(umer):\n",
    "    length = len(umer)\n",
    "    check = length\n",
    "    length = length - 1\n",
    "    count = 0\n",
    "    for x in umer:\n",
    "        if(x == umer[length]):\n",
    "            count = count + 1\n",
    "        length = length - 1\n",
    "    if(count == check):\n",
    "        print(\"Yes!!! It is a Palindrome\")\n",
    "    else:\n",
    "        print(\"No :( NOT a Palindrome\")\n",
    "\n",
    "# xyz = input(\"Enter word to check : \")\n",
    "xyz = 'civic'        #Enter you string here\n",
    "palindrome(xyz)"
   ]
  },
  {
   "cell_type": "markdown",
   "metadata": {},
   "source": [
    "## Question # 5"
   ]
  },
  {
   "cell_type": "code",
   "execution_count": 44,
   "metadata": {},
   "outputs": [
    {
     "name": "stdout",
     "output_type": "stream",
     "text": [
      "Yes, It is a Prime Number\n"
     ]
    }
   ],
   "source": [
    "number = 29\n",
    "\n",
    "def check_prime_number(num):\n",
    "    if (num <= 1): \n",
    "        return 0\n",
    "  \n",
    "    for i in range(2, num): \n",
    "        if (num % i == 0): \n",
    "            return 0\n",
    "    return 1\n",
    "\n",
    "if(check_prime_number(number)):\n",
    "    print(\"Yes, It is a Prime Number\")\n",
    "else:\n",
    "    print(\"No, Not a Prime Number\")"
   ]
  },
  {
   "cell_type": "markdown",
   "metadata": {},
   "source": [
    "## Question # 6"
   ]
  },
  {
   "cell_type": "code",
   "execution_count": 46,
   "metadata": {},
   "outputs": [
    {
     "name": "stdout",
     "output_type": "stream",
     "text": [
      "List Items :\n",
      "3\n",
      "Shampoo\n",
      "Face Wash\n",
      "Biscuits\n",
      "Tea\n",
      "Sugar\n",
      "Milk\n"
     ]
    }
   ],
   "source": [
    "def print_items(*p):\n",
    "    print(\"List Items :\")\n",
    "    for i in p:\n",
    "        print(i)\n",
    "#calling function\n",
    "print_items(3,\"Shampoo\", \"Face Wash\", \"Biscuits\", \"Tea\", \"Sugar\", \"Milk\")"
   ]
  },
  {
   "cell_type": "code",
   "execution_count": null,
   "metadata": {},
   "outputs": [],
   "source": []
  }
 ],
 "metadata": {
  "kernelspec": {
   "display_name": "Python 3",
   "language": "python",
   "name": "python3"
  },
  "language_info": {
   "codemirror_mode": {
    "name": "ipython",
    "version": 3
   },
   "file_extension": ".py",
   "mimetype": "text/x-python",
   "name": "python",
   "nbconvert_exporter": "python",
   "pygments_lexer": "ipython3",
   "version": "3.7.3"
  }
 },
 "nbformat": 4,
 "nbformat_minor": 2
}
