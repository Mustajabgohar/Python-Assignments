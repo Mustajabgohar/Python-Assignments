{
 "cells": [
  {
   "cell_type": "markdown",
   "metadata": {},
   "source": [
    "## Question 1"
   ]
  },
  {
   "cell_type": "code",
   "execution_count": 2,
   "metadata": {},
   "outputs": [
    {
     "name": "stdout",
     "output_type": "stream",
     "text": [
      "{'first_name': 'Ali', 'last_name': 'Khan', 'age': 20, 'city': 'Islamabad'}\n"
     ]
    }
   ],
   "source": [
    "person = {\n",
    "    \"first_name\" : \"Ali\",\n",
    "    \"last_name\" : \"Khan\",\n",
    "    \"age\" : 20,\n",
    "    \"city\" : \"Islamabad\"\n",
    "}\n",
    "print(person)"
   ]
  },
  {
   "cell_type": "code",
   "execution_count": 5,
   "metadata": {},
   "outputs": [
    {
     "data": {
      "text/plain": [
       "'College'"
      ]
     },
     "execution_count": 5,
     "metadata": {},
     "output_type": "execute_result"
    }
   ],
   "source": [
    "person[\"qualification\"] = \"College\"\n",
    "person[\"qualification\"]\n"
   ]
  },
  {
   "cell_type": "code",
   "execution_count": 6,
   "metadata": {},
   "outputs": [
    {
     "data": {
      "text/plain": [
       "'high academic level'"
      ]
     },
     "execution_count": 6,
     "metadata": {},
     "output_type": "execute_result"
    }
   ],
   "source": [
    "#Update value\n",
    "person[\"qualification\"] = \"high academic level\"\n",
    "person[\"qualification\"]"
   ]
  },
  {
   "cell_type": "code",
   "execution_count": 7,
   "metadata": {},
   "outputs": [
    {
     "name": "stdout",
     "output_type": "stream",
     "text": [
      "{'first_name': 'Ali', 'last_name': 'Khan', 'age': 20, 'city': 'Islamabad'}\n"
     ]
    }
   ],
   "source": [
    "#delete key\n",
    "del person[\"qualification\"]\n",
    "print(person)"
   ]
  },
  {
   "cell_type": "markdown",
   "metadata": {},
   "source": [
    "## Question # 2"
   ]
  },
  {
   "cell_type": "code",
   "execution_count": 9,
   "metadata": {},
   "outputs": [],
   "source": [
    "cities = {\n",
    "    \"karachi\": {\n",
    "        \"country\": \"Pakistan\",\n",
    "        \"population\": 14910000,\n",
    "        \"fact\" : \"The city is known as the 'City of Lights'\"\n",
    "    },\n",
    "    \"lahore\": {\n",
    "         \"country\": \"Pakistan\",\n",
    "        \"population\": 11130000,\n",
    "        \"fact\" : \"The second biggest city of Pakistan\"\n",
    "        \n",
    "    },\n",
    "    \"quetta\":{\n",
    "        \"country\": \"Pakistan\",\n",
    "        \"population\": 1001000,\n",
    "        \"fact\" : \"The city is known as the 'Fruit Garden of Pakistan'\"\n",
    "    }\n",
    "}"
   ]
  },
  {
   "cell_type": "code",
   "execution_count": 24,
   "metadata": {},
   "outputs": [
    {
     "name": "stdout",
     "output_type": "stream",
     "text": [
      "City Name = karachi\n",
      "{'country': 'Pakistan', 'population': 14910000, 'fact': \"The city is known as the 'City of Lights'\"}\n",
      "\n",
      "\n",
      "City Name = lahore\n",
      "{'country': 'Pakistan', 'population': 11130000, 'fact': 'The second biggest city of Pakistan'}\n",
      "\n",
      "\n",
      "City Name = quetta\n",
      "{'country': 'Pakistan', 'population': 1001000, 'fact': \"The city is known as the 'Fruit Garden of Pakistan'\"}\n",
      "\n",
      "\n"
     ]
    }
   ],
   "source": [
    "#print each city and it's values\n",
    "for cityKey in cities:\n",
    "    print(\"City Name = \" + cityKey)\n",
    "    print(cities[cityKey])\n",
    "    print(\"\\n\")"
   ]
  },
  {
   "cell_type": "markdown",
   "metadata": {},
   "source": [
    "## Question # 3"
   ]
  },
  {
   "cell_type": "code",
   "execution_count": 27,
   "metadata": {},
   "outputs": [
    {
     "name": "stdout",
     "output_type": "stream",
     "text": [
      "Enter your Age = 5\n",
      "Your Ticket Price is 10$\n",
      "Enter your Age = 1\n",
      "Your Ticket is FREE!\n"
     ]
    }
   ],
   "source": [
    "user_input = -1\n",
    "#Loop\n",
    "for i in range(3):\n",
    "    user_input = int(input(\"Enter your Age = \"))\n",
    "    if((user_input >= 3) and (user_input <= 12)):\n",
    "        print(\"Your Ticket Price is 10$\")\n",
    "    elif(user_input < 3):\n",
    "        print(\"Your Ticket is FREE!\")\n",
    "    elif(user_input > 12):\n",
    "        print(\"Your Ticket Price is 15$\")\n",
    "    else:\n",
    "        print(\"Invalid Input. Try again\")"
   ]
  },
  {
   "cell_type": "markdown",
   "metadata": {},
   "source": [
    "## Question # 4"
   ]
  },
  {
   "cell_type": "code",
   "execution_count": 33,
   "metadata": {},
   "outputs": [
    {
     "name": "stdout",
     "output_type": "stream",
     "text": [
      "One of my favorite books is Alice in Wonderland\n"
     ]
    }
   ],
   "source": [
    "def book(title):\n",
    "    print(title)\n",
    "text = \"One of my favorite books is Alice in Wonderland\"\n",
    "book(text)"
   ]
  },
  {
   "cell_type": "markdown",
   "metadata": {},
   "source": [
    "## Question # 5"
   ]
  },
  {
   "cell_type": "code",
   "execution_count": 6,
   "metadata": {},
   "outputs": [
    {
     "name": "stdout",
     "output_type": "stream",
     "text": [
      "10\n",
      "\t\t ******Welcome to Guessing Game******\n",
      "\t\tYou have to Guess Numbers B/W [1 to 30]\n",
      "\t\t\t\t\t\t\t\t\t\tNOTE: 3 trails LEFT\n",
      "Enter Correct number = 4\n",
      "HINT : You Guessed a lower number\n",
      "\t\t\t\t\t\t\t\t\t\tNOTE: 2 trails LEFT\n",
      "Enter Correct number = 7\n",
      "HINT : You Guessed a lower number\n",
      "\t\t\t\t\t\t\t\t\t\tNOTE: 1 trails LEFT\n",
      "Enter Correct number = 13\n",
      "You Lose! :(\n"
     ]
    }
   ],
   "source": [
    "#Guessing Game\n",
    "from random import randrange\n",
    "guess_it = randrange(30)\n",
    "print(guess_it)\n",
    "print(\"\\t\\t ******Welcome to Guessing Game******\")\n",
    "print(\"\\t\\tYou have to Guess Numbers B/W [1 to 30]\")\n",
    "trails = 3\n",
    "for i in range(3):\n",
    "    if trails != 3:\n",
    "        if(user_input > guess_it):\n",
    "            print(\"HINT : You Guessed a higher number\")\n",
    "        elif(user_input < guess_it):\n",
    "            print(\"HINT : You Guessed a lower number\")\n",
    "    print(\"\\t\\t\\t\\t\\t\\t\\t\\t\\t\\tNOTE: \" + str(trails) + \" trails LEFT\")\n",
    "    user_input = int(input(\"Enter Correct number = \"))\n",
    "    if(user_input == guess_it):\n",
    "        print(\"Congratulation!!! You GUESSED it Right\")\n",
    "        break\n",
    "    trails -= 1\n",
    "    if(trails == 0):\n",
    "        print(\"You Lose! :(\")"
   ]
  },
  {
   "cell_type": "code",
   "execution_count": null,
   "metadata": {},
   "outputs": [],
   "source": []
  }
 ],
 "metadata": {
  "kernelspec": {
   "display_name": "Python 3",
   "language": "python",
   "name": "python3"
  },
  "language_info": {
   "codemirror_mode": {
    "name": "ipython",
    "version": 3
   },
   "file_extension": ".py",
   "mimetype": "text/x-python",
   "name": "python",
   "nbconvert_exporter": "python",
   "pygments_lexer": "ipython3",
   "version": "3.7.3"
  }
 },
 "nbformat": 4,
 "nbformat_minor": 2
}
